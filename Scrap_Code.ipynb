{
 "cells": [
  {
   "cell_type": "code",
   "execution_count": 1,
   "id": "painful-expense",
   "metadata": {},
   "outputs": [],
   "source": [
    "#  THIS CODE WORKS DO NOT DELETE\n",
    "\n",
    "        # print (BAP)\n",
    "#         print ('')\n",
    "#         print ('printing what this \"looks\" like to the user...')\n",
    "#         print (BAP)\n",
    "#         print ('')\n",
    "#         print ('printing range (minimum/maximum) values to show user....')\n",
    "#         print ('min concentration BAP = ', np.min(BAP.data))\n",
    "#         print ('max concentration BAP = ',  np.max(BAP.data))\n",
    "\n",
    "# # Manually define countour levels \n",
    "# contour_levels         = [0.0002, 0.0005, 0.001, 0.002, 0.005, 0.01, 0.02, 0.05, 0.1, 0.2, 0.5, 1, 2, 5, 10, 30]\n",
    "\n",
    "# # choose a colour scale that you think looks pretty (see link for more options - https://matplotlib.org/3.1.0/tutorials/colors/colormaps.html)\n",
    "# cmap = plt.cm.get_cmap('YlOrRd')\n",
    "\n",
    "# # combine the countour levels and colour scale \n",
    "# norm = BoundaryNorm(contour_levels, ncolors=cmap.N, clip=True)\n",
    "\n",
    "# # create blank figure with manually-defined size (inches)\n",
    "# plt.figure(figsize=(10, 7))                                                      \n",
    "\n",
    "# # define how many sub-plots will be in this, and the geospatial projection\n",
    "# ax = plt.subplot(1,1,1, projection=ccrs.PlateCarree())\n",
    "\n",
    "# # plot a title \n",
    "# plt.title('Simulated (GEOS-Chem) annual-average BAP concentration', fontsize=12)\n",
    "\n",
    "# # plot countour plot (function = pcolormesh) using data (BAP) according to you colour (cmap + norm) \n",
    "# mesh = iplt.pcolormesh(BAP, cmap=cmap, norm=norm)\n",
    "\n",
    "# # plot a colour bar \n",
    "# bar = plt.colorbar(mesh, orientation='horizontal', extend='both')\n",
    "# bar.set_ticks(contour_levels[1:-1])\n",
    "# bar.set_ticklabels(contour_levels[1:-1])\n",
    "# bar.ax.tick_params(labelsize=12, rotation=60)\n",
    "# bar.set_label('ng m$^{-3}$', fontsize=12)\n",
    "# plt.gca().autoscale(False)\n",
    "\n",
    "# # overlay coastlines on the map \n",
    "# plt.gca().coastlines()\n",
    "\n",
    "# # make figure look prettier by trying to expand the images to cover white space\n",
    "# plt.tight_layout()\n",
    "\n",
    "# # save the figure \n",
    "# plt.savefig('Spatial_Conc_Global_Source.png', dpi=300)"
   ]
  },
  {
   "cell_type": "code",
   "execution_count": 2,
   "id": "other-intervention",
   "metadata": {},
   "outputs": [],
   "source": [
    "# THIS CODE WORKS DO NOT DELETE\n",
    "\n",
    "# BAP = PAH_Concentrations[12]\n",
    "# # print (BAP)\n",
    "# print ('')\n",
    "# print ('printing what this \"looks\" like to the user...')\n",
    "# print (BAP)\n",
    "# print ('')\n",
    "# print ('printing range (minimum/maximum) values to show user....')\n",
    "# print ('min concentration BAP = ', np.min(BAP.data))\n",
    "# print ('max concentration BAP = ',  np.max(BAP.data))"
   ]
  },
  {
   "cell_type": "code",
   "execution_count": null,
   "id": "romance-impression",
   "metadata": {},
   "outputs": [],
   "source": [
    "# THIS CODE WORKS DO NOT DELETE\n",
    "\n",
    "# load the data that is located in one of my analysis directories\n",
    "# for x in range(0, len(PAH_Species)):\n",
    "#     conc = iris.load('/net/fs03/d1/jamiekel/mod_analysis/rundir_210105_C/' + PAH_Species[x] + '.nc')[0]\n",
    "#     print (conc)\n",
    "#     PAH_Concentrations.append(conc[0])\n",
    "    \n",
    "# select BAP within this data frame; first integer, which ranges 0-17, indexes each of the PAH species (12 = BAP)\n",
    "# (0-15 = x16 emitted PAHs; 16 = nitro-PYR; 17 = dinitro-PYR)"
   ]
  }
 ],
 "metadata": {
  "kernelspec": {
   "display_name": "Python 3",
   "language": "python",
   "name": "python3"
  },
  "language_info": {
   "codemirror_mode": {
    "name": "ipython",
    "version": 3
   },
   "file_extension": ".py",
   "mimetype": "text/x-python",
   "name": "python",
   "nbconvert_exporter": "python",
   "pygments_lexer": "ipython3",
   "version": "3.9.1"
  }
 },
 "nbformat": 4,
 "nbformat_minor": 5
}
